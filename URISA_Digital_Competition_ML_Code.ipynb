{
 "cells": [
  {
   "cell_type": "markdown",
   "source": [
    "# Marko Zlatic Urisa Digital Competition 2023 Python Code\n",
    "\n",
    "**This Python code was created to uphold requirements for the Urisa Digital Competition 2023.**\n",
    "\n",
    "The Python code below is used to output a csv file containing all the locations for predicted crime and their respected intervals from 2023 to 2033. XGBoost, as well as, Sklearn KMeans were the primary machine learning algorithms used to dictate the predicted type of crime and at what year the crime will occur. An XGBoost regressor was used to carry out the final computation and an R-Squared score dictated the accuracy of the model.\n",
    "\n",
    "The source dataset used to produce the predictions is from the Part 1 Crime Data produced from the Baltimore Police Department found [here](\"https://data.baltimorecity.gov/datasets/baltimore::part-1-crime-data/about\").\n",
    "\n",
    "The main feature layer powering this web application can be found [here](\"https://services1.arcgis.com/0MSEUqKaxRlEPj5g/arcgis/rest/services/MZ_Urisa_Comp_Predicted_Crime_in_Baltimore/FeatureServer\").\n",
    "\n",
    "The web application hosting the results can be found in [GitHub](\"https://github.com/mzlatic1/Urisa_Digital_Competition_2023/blob/gh-pages/mz_urisa_digital_comp23.html\") for the source code and can also be viewed from the JSbin hosted link [here](\"https://output.jsbin.com/fazozin\").\n",
    "\n",
    "Author Info:<br/>\n",
    "Name: Marko Zlatic<br/>\n",
    "Date: June 30, 2023<br/>\n",
    "Purpose: Urisa Digital Competition 2023<br/>\n",
    "Student Status: Graduate<br/>\n",
    "Program: MSc. Geographic Information Systems<br/>\n",
    "University: Johns Hopkins University\n"
   ],
   "metadata": {
    "collapsed": false
   }
  },
  {
   "cell_type": "code",
   "execution_count": 1,
   "metadata": {
    "collapsed": true,
    "ExecuteTime": {
     "end_time": "2023-07-06T00:53:01.831938600Z",
     "start_time": "2023-07-06T00:52:56.454201100Z"
    }
   },
   "outputs": [],
   "source": [
    "# Import necessary packages\n",
    "from sklearn.preprocessing import FunctionTransformer, LabelEncoder\n",
    "from sklearn import model_selection, metrics\n",
    "from sklearn.cluster import KMeans\n",
    "from xgboost import XGBRegressor\n",
    "import pandas as pd\n",
    "import numpy as np\n"
   ]
  },
  {
   "cell_type": "markdown",
   "source": [
    "**Step 1: Data Manipulation.** Before the supervised XGBoost regressor is able to accept the Part 1 Crime Dataset, there are some simple data manipulation procedures that will take place using Pandas and SKlearn. The primary data manipulation practices used are data subset, as well as, categorical and date transformations."
   ],
   "metadata": {
    "collapsed": false
   }
  },
  {
   "cell_type": "code",
   "execution_count": 2,
   "outputs": [],
   "source": [
    "crime = r\"C:\\Users\\marko\\Part_1_Crime_Data.csv\" # csv file containing crimes committed in Baltimore, MD\n",
    "\n",
    "df_crime = pd.read_csv(crime, low_memory=False)\n",
    "\n",
    "df_crime.drop(columns=['CCNO', 'GeoLocation', 'Total_Incidents'], axis=1, inplace=True) # remove unnecessary fields\n",
    "df_crime['CrimeDateTime'] = pd.to_datetime(df_crime['CrimeDateTime'].replace('+00', ''), errors='coerce') # reformat date field"
   ],
   "metadata": {
    "collapsed": false,
    "ExecuteTime": {
     "end_time": "2023-07-06T00:53:03.357152400Z",
     "start_time": "2023-07-06T00:53:01.832939Z"
    }
   }
  },
  {
   "cell_type": "code",
   "execution_count": 3,
   "outputs": [
    {
     "data": {
      "text/plain": "              CrimeDateTime CrimeCode       Location   Description  \\\n0 2023-06-24 04:01:00+00:00        4B  600 LUCIA AVE  AGG. ASSAULT   \n1 2023-06-24 04:01:00+00:00        4B  600 LUCIA AVE  AGG. ASSAULT   \n2 2023-06-24 04:01:00+00:00        4B  600 LUCIA AVE  AGG. ASSAULT   \n3 2023-06-24 04:01:00+00:00       3JK  600 LUCIA AVE       ROBBERY   \n4 2023-06-24 03:45:00+00:00        5A  3200 LILY AVE      BURGLARY   \n\n  Inside_Outside            Weapon   Post Gender   Age  \\\n0            NaN  PERSONAL_WEAPONS  833.0      F  15.0   \n1            NaN  PERSONAL_WEAPONS  833.0      F  15.0   \n2            NaN  PERSONAL_WEAPONS  833.0      F  27.0   \n3            NaN  PERSONAL_WEAPONS  833.0      M  25.0   \n4            NaN               NaN  922.0      M  48.0   \n\n                        Race               Ethnicity   District  Neighborhood  \\\n0  BLACK_OR_AFRICAN_AMERICAN  NOT_HISPANIC_OR_LATINO  SOUTHWEST  YALE HEIGHTS   \n1  BLACK_OR_AFRICAN_AMERICAN  NOT_HISPANIC_OR_LATINO  SOUTHWEST  YALE HEIGHTS   \n2  BLACK_OR_AFRICAN_AMERICAN  NOT_HISPANIC_OR_LATINO  SOUTHWEST  YALE HEIGHTS   \n3  BLACK_OR_AFRICAN_AMERICAN                 UNKNOWN  SOUTHWEST  YALE HEIGHTS   \n4                        NaN      HISPANIC_OR_LATINO   SOUTHERN   CHERRY HILL   \n\n    Latitude  Longitude Premise  \n0  39.273302 -76.692439     NaN  \n1  39.273302 -76.692439     NaN  \n2  39.273302 -76.692439     NaN  \n3  39.273302 -76.692439     NaN  \n4  39.246432 -76.636819     NaN  ",
      "text/html": "<div>\n<style scoped>\n    .dataframe tbody tr th:only-of-type {\n        vertical-align: middle;\n    }\n\n    .dataframe tbody tr th {\n        vertical-align: top;\n    }\n\n    .dataframe thead th {\n        text-align: right;\n    }\n</style>\n<table border=\"1\" class=\"dataframe\">\n  <thead>\n    <tr style=\"text-align: right;\">\n      <th></th>\n      <th>CrimeDateTime</th>\n      <th>CrimeCode</th>\n      <th>Location</th>\n      <th>Description</th>\n      <th>Inside_Outside</th>\n      <th>Weapon</th>\n      <th>Post</th>\n      <th>Gender</th>\n      <th>Age</th>\n      <th>Race</th>\n      <th>Ethnicity</th>\n      <th>District</th>\n      <th>Neighborhood</th>\n      <th>Latitude</th>\n      <th>Longitude</th>\n      <th>Premise</th>\n    </tr>\n  </thead>\n  <tbody>\n    <tr>\n      <th>0</th>\n      <td>2023-06-24 04:01:00+00:00</td>\n      <td>4B</td>\n      <td>600 LUCIA AVE</td>\n      <td>AGG. ASSAULT</td>\n      <td>NaN</td>\n      <td>PERSONAL_WEAPONS</td>\n      <td>833.0</td>\n      <td>F</td>\n      <td>15.0</td>\n      <td>BLACK_OR_AFRICAN_AMERICAN</td>\n      <td>NOT_HISPANIC_OR_LATINO</td>\n      <td>SOUTHWEST</td>\n      <td>YALE HEIGHTS</td>\n      <td>39.273302</td>\n      <td>-76.692439</td>\n      <td>NaN</td>\n    </tr>\n    <tr>\n      <th>1</th>\n      <td>2023-06-24 04:01:00+00:00</td>\n      <td>4B</td>\n      <td>600 LUCIA AVE</td>\n      <td>AGG. ASSAULT</td>\n      <td>NaN</td>\n      <td>PERSONAL_WEAPONS</td>\n      <td>833.0</td>\n      <td>F</td>\n      <td>15.0</td>\n      <td>BLACK_OR_AFRICAN_AMERICAN</td>\n      <td>NOT_HISPANIC_OR_LATINO</td>\n      <td>SOUTHWEST</td>\n      <td>YALE HEIGHTS</td>\n      <td>39.273302</td>\n      <td>-76.692439</td>\n      <td>NaN</td>\n    </tr>\n    <tr>\n      <th>2</th>\n      <td>2023-06-24 04:01:00+00:00</td>\n      <td>4B</td>\n      <td>600 LUCIA AVE</td>\n      <td>AGG. ASSAULT</td>\n      <td>NaN</td>\n      <td>PERSONAL_WEAPONS</td>\n      <td>833.0</td>\n      <td>F</td>\n      <td>27.0</td>\n      <td>BLACK_OR_AFRICAN_AMERICAN</td>\n      <td>NOT_HISPANIC_OR_LATINO</td>\n      <td>SOUTHWEST</td>\n      <td>YALE HEIGHTS</td>\n      <td>39.273302</td>\n      <td>-76.692439</td>\n      <td>NaN</td>\n    </tr>\n    <tr>\n      <th>3</th>\n      <td>2023-06-24 04:01:00+00:00</td>\n      <td>3JK</td>\n      <td>600 LUCIA AVE</td>\n      <td>ROBBERY</td>\n      <td>NaN</td>\n      <td>PERSONAL_WEAPONS</td>\n      <td>833.0</td>\n      <td>M</td>\n      <td>25.0</td>\n      <td>BLACK_OR_AFRICAN_AMERICAN</td>\n      <td>UNKNOWN</td>\n      <td>SOUTHWEST</td>\n      <td>YALE HEIGHTS</td>\n      <td>39.273302</td>\n      <td>-76.692439</td>\n      <td>NaN</td>\n    </tr>\n    <tr>\n      <th>4</th>\n      <td>2023-06-24 03:45:00+00:00</td>\n      <td>5A</td>\n      <td>3200 LILY AVE</td>\n      <td>BURGLARY</td>\n      <td>NaN</td>\n      <td>NaN</td>\n      <td>922.0</td>\n      <td>M</td>\n      <td>48.0</td>\n      <td>NaN</td>\n      <td>HISPANIC_OR_LATINO</td>\n      <td>SOUTHERN</td>\n      <td>CHERRY HILL</td>\n      <td>39.246432</td>\n      <td>-76.636819</td>\n      <td>NaN</td>\n    </tr>\n  </tbody>\n</table>\n</div>"
     },
     "execution_count": 3,
     "metadata": {},
     "output_type": "execute_result"
    }
   ],
   "source": [
    "df_crime.head()"
   ],
   "metadata": {
    "collapsed": false,
    "ExecuteTime": {
     "end_time": "2023-07-06T00:53:03.400152300Z",
     "start_time": "2023-07-06T00:53:03.358153200Z"
    }
   }
  },
  {
   "cell_type": "code",
   "execution_count": 6,
   "outputs": [],
   "source": [
    "# Apply categorical transformations to text fields\n",
    "# (this code effectively converts text categories to whole numbers)\n",
    "description_dict = {}\n",
    "num = 1\n",
    "for col in list(df_crime.columns):\n",
    "    if int(df_crime[[col]].isnull().sum()) > 0:\n",
    "        if df_crime[col].dtype == object and col:\n",
    "            df_crime[col].fillna('Unknown', inplace=True)\n",
    "            df_crime[col] = LabelEncoder().fit_transform(df_crime[col]) + 1\n",
    "    elif df_crime[col].dtype == object and col:\n",
    "        if col != 'Description':\n",
    "            df_crime[col] = LabelEncoder().fit_transform(df_crime[col]) + 1\n",
    "        else:\n",
    "            for description in list(df_crime[col].unique()):\n",
    "                description_dict[description] = num\n",
    "                num += 1\n",
    "            df_crime[col] = df_crime[col].apply(lambda row: description_dict[row])\n",
    "\n",
    "df_crime.dropna(axis=0, inplace=True) # remove remaining null values\n",
    "df_crime.query('Longitude != 0 and Latitude != 0', inplace=True) # remove null geometries\n",
    "df_crime = df_crime[df_crime['CrimeDateTime'].dt.year > 2012] # subset data after 2012"
   ],
   "metadata": {
    "collapsed": false,
    "ExecuteTime": {
     "end_time": "2023-07-06T00:53:05.297565500Z",
     "start_time": "2023-07-06T00:53:04.017991300Z"
    }
   }
  },
  {
   "cell_type": "code",
   "execution_count": 7,
   "outputs": [
    {
     "name": "stdout",
     "output_type": "stream",
     "text": [
      "<class 'pandas.core.frame.DataFrame'>\n",
      "Int64Index: 447356 entries, 0 to 568613\n",
      "Data columns (total 16 columns):\n",
      " #   Column          Non-Null Count   Dtype              \n",
      "---  ------          --------------   -----              \n",
      " 0   CrimeDateTime   447356 non-null  datetime64[ns, UTC]\n",
      " 1   CrimeCode       447356 non-null  int32              \n",
      " 2   Location        447356 non-null  int32              \n",
      " 3   Description     447356 non-null  int64              \n",
      " 4   Inside_Outside  447356 non-null  int32              \n",
      " 5   Weapon          447356 non-null  int32              \n",
      " 6   Post            447356 non-null  float64            \n",
      " 7   Gender          447356 non-null  int32              \n",
      " 8   Age             447356 non-null  float64            \n",
      " 9   Race            447356 non-null  int32              \n",
      " 10  Ethnicity       447356 non-null  int32              \n",
      " 11  District        447356 non-null  int32              \n",
      " 12  Neighborhood    447356 non-null  int32              \n",
      " 13  Latitude        447356 non-null  float64            \n",
      " 14  Longitude       447356 non-null  float64            \n",
      " 15  Premise         447356 non-null  int32              \n",
      "dtypes: datetime64[ns, UTC](1), float64(4), int32(10), int64(1)\n",
      "memory usage: 41.0 MB\n"
     ]
    }
   ],
   "source": [
    "df_crime.info() # All fields are now an integer or float"
   ],
   "metadata": {
    "collapsed": false,
    "ExecuteTime": {
     "end_time": "2023-07-06T00:53:05.311566200Z",
     "start_time": "2023-07-06T00:53:05.298566400Z"
    }
   }
  },
  {
   "cell_type": "markdown",
   "source": [
    "Before the code is able to continue, export the recently modified dataframe and use the Esri arcpy XY Table to Point Geoprocessing tool followed by the Density-based Clustering Geoprocessing tool. The message output produced from the Density-based Clustering tool contains the number of clusters, this will be the number of clusters used for the KMeans algorithm. The code is as follows:<br/>```\n",
    "    arcpy.stats.DensityBasedClustering(\n",
    "        in_features=\"Part_1_Crime_Data_with_TRANSFORMATIONS_XYTableToPoint\",\n",
    "        output_features=r\"C:\\Users\\marko\\Urisa_Digital_Comp23.gdb\\Part_1_Crime_Data_with_TRANSFORMATIONS_XYTableToPoint_DensityBasedClustering\",\n",
    "        cluster_method=\"HDBSCAN\",\n",
    "        min_features_cluster=50,\n",
    "        search_distance=None,\n",
    "        cluster_sensitivity=None,\n",
    "        time_field=None,\n",
    "        search_time_interval=None\n",
    "    )```"
   ],
   "metadata": {
    "collapsed": false
   }
  },
  {
   "cell_type": "code",
   "execution_count": 8,
   "outputs": [],
   "source": [
    "df_crime.to_csv(r\"C:\\Users\\marko\\Part_1_Crime_Data_with_TRANSFORMATIONS.csv\")"
   ],
   "metadata": {
    "collapsed": false,
    "ExecuteTime": {
     "end_time": "2023-07-06T00:53:07.593284600Z",
     "start_time": "2023-07-06T00:53:05.312566200Z"
    }
   }
  },
  {
   "cell_type": "code",
   "execution_count": 9,
   "outputs": [],
   "source": [
    "df_crime['YEAR'] = df_crime['CrimeDateTime'].dt.year"
   ],
   "metadata": {
    "collapsed": false,
    "ExecuteTime": {
     "end_time": "2023-07-06T00:53:07.608283300Z",
     "start_time": "2023-07-06T00:53:07.594282900Z"
    }
   }
  },
  {
   "cell_type": "markdown",
   "source": [
    "The cosine_transformer() function was derived from a blog post created from NVIDIA's Eryk Lewinson found here: [https://developer.nvidia.com/blog/three-approaches-to-encoding-time-information-as-features-for-ml-models/ Retrieved June 30, 2023](\"https://developer.nvidia.com/blog/three-approaches-to-encoding-time-information-as-features-for-ml-models/\")."
   ],
   "metadata": {
    "collapsed": false
   }
  },
  {
   "cell_type": "code",
   "execution_count": 10,
   "outputs": [],
   "source": [
    "# Month and Day Transformations\n",
    "def cosine_transformation(period):\n",
    "    return FunctionTransformer(lambda row: np.cos(row / period * 2 * np.pi))\n",
    "\n",
    "df_crime['MONTH'] = cosine_transformation(12).fit_transform(df_crime['CrimeDateTime'].dt.month)\n",
    "df_crime['DAY'] = cosine_transformation(365).fit_transform(df_crime['CrimeDateTime'].dt.day)\n"
   ],
   "metadata": {
    "collapsed": false,
    "ExecuteTime": {
     "end_time": "2023-07-06T00:53:07.653424500Z",
     "start_time": "2023-07-06T00:53:07.610283200Z"
    }
   }
  },
  {
   "cell_type": "code",
   "execution_count": 11,
   "outputs": [
    {
     "data": {
      "text/plain": "              CrimeDateTime  CrimeCode  Location  Description  Inside_Outside  \\\n0 2023-06-24 04:01:00+00:00         45     19139            1               5   \n1 2023-06-24 04:01:00+00:00         45     19139            1               5   \n2 2023-06-24 04:01:00+00:00         45     19139            1               5   \n3 2023-06-24 04:01:00+00:00         31     19139            2               5   \n4 2023-06-24 03:45:00+00:00         49     11360            3               5   \n\n   Weapon   Post  Gender   Age  Race  Ethnicity  District  Neighborhood  \\\n0      18  833.0      14  15.0     3          4         8           278   \n1      18  833.0      14  15.0     3          4         8           278   \n2      18  833.0      14  27.0     3          4         8           278   \n3      18  833.0      21  25.0     3          6         8           278   \n4      23  922.0      21  48.0     6          2         7            46   \n\n    Latitude  Longitude  Premise  YEAR  MONTH       DAY  \n0  39.273302 -76.692439      157  2023   -1.0  0.915864  \n1  39.273302 -76.692439      157  2023   -1.0  0.915864  \n2  39.273302 -76.692439      157  2023   -1.0  0.915864  \n3  39.273302 -76.692439      157  2023   -1.0  0.915864  \n4  39.246432 -76.636819      157  2023   -1.0  0.915864  ",
      "text/html": "<div>\n<style scoped>\n    .dataframe tbody tr th:only-of-type {\n        vertical-align: middle;\n    }\n\n    .dataframe tbody tr th {\n        vertical-align: top;\n    }\n\n    .dataframe thead th {\n        text-align: right;\n    }\n</style>\n<table border=\"1\" class=\"dataframe\">\n  <thead>\n    <tr style=\"text-align: right;\">\n      <th></th>\n      <th>CrimeDateTime</th>\n      <th>CrimeCode</th>\n      <th>Location</th>\n      <th>Description</th>\n      <th>Inside_Outside</th>\n      <th>Weapon</th>\n      <th>Post</th>\n      <th>Gender</th>\n      <th>Age</th>\n      <th>Race</th>\n      <th>Ethnicity</th>\n      <th>District</th>\n      <th>Neighborhood</th>\n      <th>Latitude</th>\n      <th>Longitude</th>\n      <th>Premise</th>\n      <th>YEAR</th>\n      <th>MONTH</th>\n      <th>DAY</th>\n    </tr>\n  </thead>\n  <tbody>\n    <tr>\n      <th>0</th>\n      <td>2023-06-24 04:01:00+00:00</td>\n      <td>45</td>\n      <td>19139</td>\n      <td>1</td>\n      <td>5</td>\n      <td>18</td>\n      <td>833.0</td>\n      <td>14</td>\n      <td>15.0</td>\n      <td>3</td>\n      <td>4</td>\n      <td>8</td>\n      <td>278</td>\n      <td>39.273302</td>\n      <td>-76.692439</td>\n      <td>157</td>\n      <td>2023</td>\n      <td>-1.0</td>\n      <td>0.915864</td>\n    </tr>\n    <tr>\n      <th>1</th>\n      <td>2023-06-24 04:01:00+00:00</td>\n      <td>45</td>\n      <td>19139</td>\n      <td>1</td>\n      <td>5</td>\n      <td>18</td>\n      <td>833.0</td>\n      <td>14</td>\n      <td>15.0</td>\n      <td>3</td>\n      <td>4</td>\n      <td>8</td>\n      <td>278</td>\n      <td>39.273302</td>\n      <td>-76.692439</td>\n      <td>157</td>\n      <td>2023</td>\n      <td>-1.0</td>\n      <td>0.915864</td>\n    </tr>\n    <tr>\n      <th>2</th>\n      <td>2023-06-24 04:01:00+00:00</td>\n      <td>45</td>\n      <td>19139</td>\n      <td>1</td>\n      <td>5</td>\n      <td>18</td>\n      <td>833.0</td>\n      <td>14</td>\n      <td>27.0</td>\n      <td>3</td>\n      <td>4</td>\n      <td>8</td>\n      <td>278</td>\n      <td>39.273302</td>\n      <td>-76.692439</td>\n      <td>157</td>\n      <td>2023</td>\n      <td>-1.0</td>\n      <td>0.915864</td>\n    </tr>\n    <tr>\n      <th>3</th>\n      <td>2023-06-24 04:01:00+00:00</td>\n      <td>31</td>\n      <td>19139</td>\n      <td>2</td>\n      <td>5</td>\n      <td>18</td>\n      <td>833.0</td>\n      <td>21</td>\n      <td>25.0</td>\n      <td>3</td>\n      <td>6</td>\n      <td>8</td>\n      <td>278</td>\n      <td>39.273302</td>\n      <td>-76.692439</td>\n      <td>157</td>\n      <td>2023</td>\n      <td>-1.0</td>\n      <td>0.915864</td>\n    </tr>\n    <tr>\n      <th>4</th>\n      <td>2023-06-24 03:45:00+00:00</td>\n      <td>49</td>\n      <td>11360</td>\n      <td>3</td>\n      <td>5</td>\n      <td>23</td>\n      <td>922.0</td>\n      <td>21</td>\n      <td>48.0</td>\n      <td>6</td>\n      <td>2</td>\n      <td>7</td>\n      <td>46</td>\n      <td>39.246432</td>\n      <td>-76.636819</td>\n      <td>157</td>\n      <td>2023</td>\n      <td>-1.0</td>\n      <td>0.915864</td>\n    </tr>\n  </tbody>\n</table>\n</div>"
     },
     "execution_count": 11,
     "metadata": {},
     "output_type": "execute_result"
    }
   ],
   "source": [
    "df_crime.head() # Visualizing final version of dataframe before step 2."
   ],
   "metadata": {
    "collapsed": false,
    "ExecuteTime": {
     "end_time": "2023-07-06T00:53:07.668015Z",
     "start_time": "2023-07-06T00:53:07.654439800Z"
    }
   }
  },
  {
   "cell_type": "markdown",
   "source": [
    "**Step 2: Running the Model.** Now that the data manipulation process is complete. It is now time to run the supervised machine learning model. To start, the KMeans algorithm is used (where k is equal to the number of clusters produced from the Esri arcpy Density-based Clustering geoprocessing tool) to predict the cluster id associated with each row; this outputs an array with cluster id's (in the same order as the input dataframe). The array of cluster id's is then joined back to the primary input dataframe. The dataframe is then split into testing and training subsets. The training subset is then run through the XGBoost regressor algorithm using the .fit() function. The same XGBoost regressor model is then run through the .predict() function where an array of predicted values is produced. The array of predicted values is then compared to the test subset to determine the R^2 (R-Squared) value; ultimately determine the fit of the model."
   ],
   "metadata": {
    "collapsed": false
   }
  },
  {
   "cell_type": "code",
   "execution_count": 13,
   "outputs": [],
   "source": [
    "k = 2549 # number retrieved from arcpy density-based clustering tool\n",
    "kmeans = KMeans(k, n_init='auto').fit_predict(df_crime[['YEAR', 'Description', 'Longitude', 'Latitude']])"
   ],
   "metadata": {
    "collapsed": false,
    "ExecuteTime": {
     "end_time": "2023-07-06T00:54:21.758282200Z",
     "start_time": "2023-07-06T00:53:07.685576500Z"
    }
   }
  },
  {
   "cell_type": "code",
   "execution_count": 14,
   "outputs": [],
   "source": [
    "clusters = pd.DataFrame(kmeans, columns=['cluster']).reset_index().rename(columns={'index': 'join_field'})\n",
    "df_crime = df_crime.reset_index().rename(columns={'index': 'join_field'}).merge(clusters, on='join_field').drop(columns='join_field', axis=1)"
   ],
   "metadata": {
    "collapsed": false,
    "ExecuteTime": {
     "end_time": "2023-07-06T00:54:21.960810900Z",
     "start_time": "2023-07-06T00:54:21.759281300Z"
    }
   }
  },
  {
   "cell_type": "code",
   "execution_count": 15,
   "outputs": [],
   "source": [
    "df_crime.drop(columns=['CrimeDateTime'], axis=1, inplace=True) # Date field is no longer needed"
   ],
   "metadata": {
    "collapsed": false,
    "ExecuteTime": {
     "end_time": "2023-07-06T00:54:22.005931600Z",
     "start_time": "2023-07-06T00:54:21.960810900Z"
    }
   }
  },
  {
   "cell_type": "code",
   "execution_count": 16,
   "outputs": [],
   "source": [
    "y_fields = ['YEAR', 'Description', 'Longitude', 'Latitude']\n",
    "x_fields = [c for c in list(df_crime.columns) if c not in y_fields]\n",
    "x = df_crime[x_fields]\n",
    "y = df_crime[y_fields]"
   ],
   "metadata": {
    "collapsed": false,
    "ExecuteTime": {
     "end_time": "2023-07-06T00:54:22.020953400Z",
     "start_time": "2023-07-06T00:54:21.993932400Z"
    }
   }
  },
  {
   "cell_type": "code",
   "execution_count": 17,
   "outputs": [],
   "source": [
    "xtrain, xtest, ytrain, ytest = model_selection.train_test_split(x, y, test_size=0.2, random_state=42)"
   ],
   "metadata": {
    "collapsed": false,
    "ExecuteTime": {
     "end_time": "2023-07-06T00:54:22.081140700Z",
     "start_time": "2023-07-06T00:54:22.021598500Z"
    }
   }
  },
  {
   "cell_type": "code",
   "execution_count": 18,
   "outputs": [],
   "source": [
    "params_xg = {\n",
    "    'n_estimators': 500,\n",
    "    'n_jobs': -1,\n",
    "    'gpu_id': 0,\n",
    "    'predictor': 'gpu_predictor',\n",
    "    'verbosity': 1,\n",
    "    'random_state': 42,\n",
    "}\n",
    "xg_model = XGBRegressor(**params_xg).fit(xtrain, ytrain)"
   ],
   "metadata": {
    "collapsed": false,
    "ExecuteTime": {
     "end_time": "2023-07-06T00:55:11.661711600Z",
     "start_time": "2023-07-06T00:54:22.083139900Z"
    }
   }
  },
  {
   "cell_type": "code",
   "execution_count": 19,
   "outputs": [],
   "source": [
    "ypred_xg = xg_model.predict(xtest)"
   ],
   "metadata": {
    "collapsed": false,
    "ExecuteTime": {
     "end_time": "2023-07-06T00:55:11.737738700Z",
     "start_time": "2023-07-06T00:55:11.661711600Z"
    }
   }
  },
  {
   "cell_type": "code",
   "execution_count": 20,
   "outputs": [
    {
     "data": {
      "text/plain": "0.9678233969792526"
     },
     "execution_count": 20,
     "metadata": {},
     "output_type": "execute_result"
    }
   ],
   "source": [
    "r2_xg = metrics.r2_score(ypred_xg, ytest)\n",
    "r2_xg"
   ],
   "metadata": {
    "collapsed": false,
    "ExecuteTime": {
     "end_time": "2023-07-06T00:55:11.752739200Z",
     "start_time": "2023-07-06T00:55:11.738740200Z"
    }
   }
  },
  {
   "cell_type": "markdown",
   "source": [
    "**Step 3: Final Processing and Export Results.** The KMeans-XGBoost supervised model was able to produce a predicted model whose R-Squared value is 0.97. These results would be considered robust. The .predict() function is now used for the entire modified Part 1 Crime dataframe to produce a complete prediction of crime. Since the Description column was a text column, it was transformed in Step 1 and currently contains integers. The integers are then re-translated back to their original values and the Year column was rounded up using the numpy.ceil() function. Finally, exporting the results as a csv file; where the data is then imported into ArcGIS Pro and published as a feature layer."
   ],
   "metadata": {
    "collapsed": false
   }
  },
  {
   "cell_type": "code",
   "execution_count": 21,
   "outputs": [],
   "source": [
    "export_pred = xg_model.predict(x)"
   ],
   "metadata": {
    "collapsed": false,
    "ExecuteTime": {
     "end_time": "2023-07-06T00:55:11.936739400Z",
     "start_time": "2023-07-06T00:55:11.751739300Z"
    }
   }
  },
  {
   "cell_type": "code",
   "execution_count": 22,
   "outputs": [],
   "source": [
    "df_ypred = pd.DataFrame(export_pred, columns=[y_fields])\n",
    "df_ypred['Description'] = df_ypred['Description'].round()\n",
    "for index, row in df_ypred.iterrows():\n",
    "    idx_4_dict = int(row['Description'])\n",
    "    row['Description_Val'] = list(description_dict.keys())[list(description_dict.values()).index(idx_4_dict)]\n",
    "df_ypred['YEAR'] = np.ceil(df_ypred['YEAR'])\n",
    "df_ypred.to_csv(r'C:\\Users\\marko\\predicted_values.csv')\n"
   ],
   "metadata": {
    "collapsed": false,
    "ExecuteTime": {
     "end_time": "2023-07-06T00:56:32.235277500Z",
     "start_time": "2023-07-06T00:55:11.939740100Z"
    }
   }
  },
  {
   "cell_type": "code",
   "execution_count": 23,
   "outputs": [],
   "source": [],
   "metadata": {
    "collapsed": false,
    "ExecuteTime": {
     "end_time": "2023-07-06T00:56:32.420276500Z",
     "start_time": "2023-07-06T00:56:32.407276600Z"
    }
   }
  }
 ],
 "metadata": {
  "kernelspec": {
   "display_name": "Python 3",
   "language": "python",
   "name": "python3"
  },
  "language_info": {
   "codemirror_mode": {
    "name": "ipython",
    "version": 2
   },
   "file_extension": ".py",
   "mimetype": "text/x-python",
   "name": "python",
   "nbconvert_exporter": "python",
   "pygments_lexer": "ipython2",
   "version": "2.7.6"
  }
 },
 "nbformat": 4,
 "nbformat_minor": 0
}
